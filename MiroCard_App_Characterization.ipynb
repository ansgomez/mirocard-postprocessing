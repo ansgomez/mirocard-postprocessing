{
 "cells": [
  {
   "cell_type": "code",
   "execution_count": 26,
   "metadata": {
    "id": "_ki82BLm6n4S"
   },
   "outputs": [],
   "source": [
    "%matplotlib inline\n",
    "import numpy as np\n",
    "import pandas as pd\n",
    "import matplotlib.pyplot as plt\n",
    "from matplotlib import rc\n",
    "import os\n",
    "from numpy import linalg as LA"
   ]
  },
  {
   "cell_type": "code",
   "execution_count": 27,
   "metadata": {
    "colab": {
     "base_uri": "https://localhost:8080/"
    },
    "id": "eN2A5M137ORy",
    "outputId": "b5c1f992-32f7-41f7-910b-c3e582726258"
   },
   "outputs": [],
   "source": [
    "#pip install rocketlogger"
   ]
  },
  {
   "cell_type": "code",
   "execution_count": 28,
   "metadata": {
    "id": "nvfwmqYr7XXu"
   },
   "outputs": [],
   "source": [
    "from rocketlogger.data import RocketLoggerData"
   ]
  },
  {
   "cell_type": "markdown",
   "metadata": {
    "id": "Lv683oCy6n4a"
   },
   "source": [
    "# Configuration"
   ]
  },
  {
   "cell_type": "code",
   "execution_count": 29,
   "metadata": {
    "colab": {
     "base_uri": "https://localhost:8080/"
    },
    "id": "7JwK-uBs6n4e",
    "outputId": "350a3be0-aa95-4136-f2dc-309c55475057"
   },
   "outputs": [
    {
     "name": "stdout",
     "output_type": "stream",
     "text": [
      "Application states:\n",
      "   1:\tconfig\n",
      "   3:\tBLE\n"
     ]
    }
   ],
   "source": [
    "# Export figure settings\n",
    "plt.rcParams['pdf.fonttype'] = 42\n",
    "plt.rcParams['ps.fonttype'] = 42\n",
    "plt.rcParams['ps.useafm'] = True\n",
    "\n",
    "# constants\n",
    "LPM_CURRENT_THRESHOLD = 30e-6 # ampere\n",
    "\n",
    "QUANTILE = np.array([0.95, 0.99])\n",
    "PERCENTILE = 100 * QUANTILE\n",
    "\n",
    "TRIM_START = 3.0 # seconds\n",
    "TRIM_END = 1.0 # seconds\n",
    "\n",
    "APP_STATES = {\n",
    "    0b0001: 'config',\n",
    "    0b0011: 'BLE',\n",
    "}\n",
    "\n",
    "# print defined app states\n",
    "print('Application states:')\n",
    "for (index, name) in APP_STATES.items():\n",
    "    print('{:4d}:\\t{}'.format(index, name))\n",
    "    \n",
    "# input folder\n",
    "input_folder = os.path.join('.')\n",
    "\n",
    "# input files\n",
    "measurement_file = 'data/mirocard_triggered_data_app.rld'"
   ]
  },
  {
   "cell_type": "markdown",
   "metadata": {
    "id": "J37a2EfC6n4i"
   },
   "source": [
    "# Load data"
   ]
  },
  {
   "cell_type": "code",
   "execution_count": 30,
   "metadata": {
    "id": "nK3Buo2S6n4j"
   },
   "outputs": [],
   "source": [
    "data = RocketLoggerData(os.path.join(input_folder, measurement_file))\n",
    "data = data.merge_channels(True)\n",
    "data_sample_rate = int(data._header['sample_rate'])\n",
    "data_comment = data.get_comment()"
   ]
  },
  {
   "cell_type": "code",
   "execution_count": 31,
   "metadata": {
    "colab": {
     "base_uri": "https://localhost:8080/"
    },
    "id": "Ly3J1_cW6n4j",
    "outputId": "93472cc6-a66e-465b-d76a-53f6818104ac"
   },
   "outputs": [
    {
     "name": "stdout",
     "output_type": "stream",
     "text": [
      "__ File comment: __\n",
      " Energy characterization of the MiroCard BLE application with constant power supply at 4.5V acting as battery and frequent external trigger from a signal generator (2.5V at 50 Hz).\n",
      "V1: Supply voltage of HARVESTER, Vcap\n",
      "I1: Supply current of DUT (positive polarity)\n",
      "DI1: GPIO indicating the application is running\n",
      "DI2: GPIO indicating BLE is on\n",
      "DI3: External trigger signal\n",
      "All other signals are unused.\n"
     ]
    }
   ],
   "source": [
    "print('__ File comment: __\\n', data_comment)"
   ]
  },
  {
   "cell_type": "code",
   "execution_count": 32,
   "metadata": {
    "colab": {
     "base_uri": "https://localhost:8080/"
    },
    "id": "sRZDFIbG6n4k",
    "outputId": "3d2fc22f-b380-4717-e86c-cddcecac63c6"
   },
   "outputs": [
    {
     "name": "stdout",
     "output_type": "stream",
     "text": [
      "Average supply voltage:  2.81 V \n"
     ]
    }
   ],
   "source": [
    "# RAW DATA\n",
    "I_app = data.get_data('I1').squeeze()[int(TRIM_START*data_sample_rate):-int(TRIM_END*data_sample_rate)]\n",
    "V_app = data.get_data('V1').squeeze()[int(TRIM_START*data_sample_rate):-int(TRIM_END*data_sample_rate)]\n",
    "\n",
    "print(\"Average supply voltage:  {:1.2f} V \".format(np.mean(V_app)))\n",
    "\n",
    "# DIO\n",
    "# APP STATE\n",
    "app_cycle = data.get_data('DI1').squeeze()[int(TRIM_START*data_sample_rate):-int(TRIM_END*data_sample_rate)] > 0\n",
    "app_tx = data.get_data('DI2').squeeze()[int(TRIM_START*data_sample_rate):-int(TRIM_END*data_sample_rate)] > 0\n",
    "app_state = np.array(0b0001 * app_cycle | 0b0010 * app_tx , dtype=np.uint8)\n",
    "\n",
    "# EXTERNAL TRIGGER\n",
    "app_wakeup = data.get_data('DI3').squeeze()[int(TRIM_START*data_sample_rate):-int(TRIM_END*data_sample_rate)]\n",
    "\n",
    "# TIME\n",
    "t_app = data.get_time()[int(TRIM_START*data_sample_rate):-int(TRIM_END*data_sample_rate)]\n",
    "t_app = t_app - t_app[0]\n",
    "dt_app = np.hstack([np.diff(t_app), 0])\n",
    "\n",
    "# POWER / ENERGY\n",
    "P_app = 1 * V_app * I_app\n",
    "E_app = P_app * dt_app\n",
    "E_app_masked = E_app * app_cycle #only taking into account active cycle\n",
    "E_tx_masked = E_app * app_tx #only taking into account active cycle"
   ]
  },
  {
   "cell_type": "markdown",
   "metadata": {
    "id": "FtZvdS6Z6n4m"
   },
   "source": [
    "# Extract Application states"
   ]
  },
  {
   "cell_type": "code",
   "execution_count": 33,
   "metadata": {
    "colab": {
     "base_uri": "https://localhost:8080/"
    },
    "id": "r-RhB9uO6n4m",
    "outputId": "2a7d0be4-cb12-4bdd-9bc9-c1ef8010e24a"
   },
   "outputs": [
    {
     "name": "stdout",
     "output_type": "stream",
     "text": [
      "Application executions:  71\n"
     ]
    }
   ],
   "source": [
    "# extract wakeup triggers\n",
    "app_trig = np.diff(np.hstack([[0], app_wakeup])) > 0\n",
    "app_trig_index = np.nonzero(app_trig)[0]\n",
    "num_trig = len(app_trig_index)\n",
    "print('Application executions: ', num_trig)"
   ]
  },
  {
   "cell_type": "code",
   "execution_count": 34,
   "metadata": {
    "id": "L2DCcGle6n4o"
   },
   "outputs": [],
   "source": [
    "# extract LPM periods\n",
    "app_lpm_window = (I_app) < LPM_CURRENT_THRESHOLD\n",
    "\n",
    "# only consider lpm with at least on neighboring lpm (exclude single outliers)\n",
    "app_lpm_window_filtered = np.logical_and(app_lpm_window, np.logical_or(np.hstack([app_lpm_window[1:], True]), np.hstack([True, app_lpm_window[:-1]])))\n",
    "\n",
    "#if two activations are within this time [ms], then they are joined.\n",
    "min_threshold_ms = 5\n",
    "min_threshold = min_threshold_ms/1000*data_sample_rate\n",
    "\n",
    "for t in range(num_trig-1):\n",
    "    idx_start_i1 = app_trig_index[t]\n",
    "    idx_start_i2 = app_trig_index[t+1]\n",
    "    if( (idx_start_i2-idx_start_i1) < min_threshold):\n",
    "        print(\"Successive triggers are too close at t={}\".format(t))\n",
    "\n",
    "lpm_enter_edge = np.diff(np.hstack([[0], app_lpm_window_filtered])) > 0\n",
    "lpm_enter_index = np.nonzero(lpm_enter_edge)[0]"
   ]
  },
  {
   "cell_type": "code",
   "execution_count": 35,
   "metadata": {
    "colab": {
     "base_uri": "https://localhost:8080/",
     "height": 1000
    },
    "id": "zOAp4hR_6n4p",
    "outputId": "31d72853-ce5d-4893-fa66-441586b48d15"
   },
   "outputs": [
    {
     "name": "stdout",
     "output_type": "stream",
     "text": [
      "DEBUG at index 0\n",
      "318080 318628 548\n",
      "[ 0.21744264  0.16283435  0.11117997  0.06437636  0.02309974 -0.01703698]\n",
      "[False False False  True  True  True]\n",
      "[False False False  True  True  True]\n"
     ]
    },
    {
     "data": {
      "image/png": "[encoded data removed]",
      "text/plain": [
       "<Figure size 432x288 with 1 Axes>"
      ]
     },
     "metadata": {
      "needs_background": "light"
     },
     "output_type": "display_data"
    },
    {
     "name": "stdout",
     "output_type": "stream",
     "text": [
      "DEBUG at index 70\n",
      "1175348 1175868 520\n",
      "[ 1.88752936  2.01984593  3.41698309 -2.89975651 -1.68623217 -1.47331976]\n",
      "[False False False  True  True  True]\n",
      "[False False False  True  True  True]\n"
     ]
    },
    {
     "data": {
      "image/png": "[encoded data removed]",
      "text/plain": [
       "<Figure size 432x288 with 1 Axes>"
      ]
     },
     "metadata": {
      "needs_background": "light"
     },
     "output_type": "display_data"
    }
   ],
   "source": [
    "# calculate app active windows\n",
    "app_active = np.zeros_like(app_trig, dtype=np.bool_)\n",
    "app_active_index = np.zeros([num_trig, 2], dtype=np.int32)\n",
    "app_rf_index = np.zeros([num_trig, 2], dtype=np.int32)\n",
    "app_shutdown_index = np.zeros([num_trig, 2], dtype=np.int32)\n",
    "\n",
    "for t in range(num_trig):\n",
    "    idx_start = app_trig_index[t]\n",
    "    idx_end = lpm_enter_index[lpm_enter_index > idx_start + data_sample_rate/1000]\n",
    "        \n",
    "    if (len(idx_end) == 0):\n",
    "        print('skiping execution #{}'.format(t))\n",
    "        continue\n",
    "    else:\n",
    "        idx_end = idx_end[0]\n",
    "\n",
    "    if ((idx_end-idx_start) < min_threshold):\n",
    "        print(\"Short inter-arrival time ({:.2f} ms) at t={}\".format(1000*(idx_end-idx_start)/data_sample_rate,t))\n",
    "        \n",
    "    app_active[idx_start:idx_end] = True\n",
    "    app_active_index[t] = [idx_start, idx_end]\n",
    "    \n",
    "    # debug plots (print a few to see if they make sense)\n",
    "    if t in [0, num_trig-1]:\n",
    "        print('DEBUG at index {}'.format(t))\n",
    "        print(idx_start, idx_end, (idx_end - idx_start))\n",
    "        print(1e3 * P_app[idx_end + range(-3, 3)])\n",
    "        print(app_lpm_window[idx_end + range(-3, 3)])\n",
    "        print(app_lpm_window_filtered[idx_end + range(-3, 3)])\n",
    "        \n",
    "        detail_range = range(max(0, idx_start-200), min(len(t_app)-1, idx_end+200))\n",
    "        _ = plt.plot(1e3 * (t_app[detail_range] - t_app[detail_range].min()), 1e3 * P_app[detail_range]) #blue\n",
    "        _ = plt.plot(1e3 * (t_app[detail_range] - t_app[detail_range].min()), 15 * app_active[detail_range]) #yellow\n",
    "        _ = plt.plot(1e3 * (t_app[detail_range] - t_app[detail_range].min()), 20 * app_cycle[detail_range]) #green\n",
    "        _ = plt.plot(1e3 * (t_app[detail_range] - t_app[detail_range].min()), 25 * app_trig[detail_range]) #red\n",
    "        _ = plt.plot(1e3 * (t_app[detail_range] - t_app[detail_range].min()), 30 * app_tx[detail_range]) #purple\n",
    "        _ = plt.xlabel('time [ms]')\n",
    "        _ = plt.ylabel('power [mW]')\n",
    "        plt.show()"
   ]
  },
  {
   "cell_type": "code",
   "execution_count": 36,
   "metadata": {
    "colab": {
     "base_uri": "https://localhost:8080/"
    },
    "id": "8_9cbnPq6n4r",
    "outputId": "94e62108-690d-4fbf-9f3b-1f35b6550672"
   },
   "outputs": [
    {
     "name": "stdout",
     "output_type": "stream",
     "text": [
      "    config :   8159\n",
      "       BLE :  14399\n"
     ]
    }
   ],
   "source": [
    "# extract application state and task active windows\n",
    "app_state_windows = {}\n",
    "app_process_window = np.zeros_like(app_state, dtype=np.bool_)\n",
    "for (index, name) in APP_STATES.items():\n",
    "    app_state_windows[index] = (app_state == index)\n",
    "    app_process_window = np.logical_or(app_process_window, app_state_windows[index])\n",
    "    print('{:>10s} : {:6}'.format(name, app_state_windows[index].sum()))\n",
    "\n",
    "# derive init and shutdown masks\n",
    "app_process_start = np.diff(np.hstack([[0], app_process_window])) > 0\n",
    "app_init_window = np.cumsum(1 * app_trig - 1 * app_process_start) - np.sum(1 * app_trig - 1 * app_process_start)\n",
    "\n",
    "# app_shutdown_window = np.logical_not(np.logical_or(app_init_window, np.logical_or(app_task_window, app_lpm_window_filtered)))\n",
    "app_shutdown_window = np.logical_and(app_active, np.logical_not(np.logical_or(app_process_window, app_init_window)))"
   ]
  },
  {
   "cell_type": "code",
   "execution_count": 37,
   "metadata": {
    "colab": {
     "base_uri": "https://localhost:8080/",
     "height": 281
    },
    "id": "ai-XbdaH6n4s",
    "outputId": "d9c4e181-b1d5-4822-d4cf-2080b5a978f5"
   },
   "outputs": [
    {
     "name": "stdout",
     "output_type": "stream",
     "text": [
      "Range:\n",
      "1175284\n",
      "1175988\n"
     ]
    },
    {
     "data": {
      "image/png": "[encoded data removed]",
      "text/plain": [
       "<Figure size 504x216 with 2 Axes>"
      ]
     },
     "metadata": {
      "needs_background": "light"
     },
     "output_type": "display_data"
    }
   ],
   "source": [
    "# detail view of imported data\n",
    "SAMPLE_TRIG_INDEX = 70\n",
    "detail_range = range(app_trig_index[SAMPLE_TRIG_INDEX] - int(0.001 * data_sample_rate), app_trig_index[SAMPLE_TRIG_INDEX] + int(0.010 * data_sample_rate))\n",
    "\n",
    "print(\"Range:\")\n",
    "print(app_trig_index[SAMPLE_TRIG_INDEX] - int(0.001 * data_sample_rate))\n",
    "print( app_trig_index[SAMPLE_TRIG_INDEX] + int(0.010 * data_sample_rate))\n",
    "\n",
    "x_size = 7\n",
    "power_plot = 0\n",
    "state_plot = 1\n",
    "init_begin = 1e3*t_app[np.argwhere(app_init_window[detail_range]==1)[0]][0]\n",
    "config_begin = 1e3*t_app[np.argwhere(app_state_windows[1][detail_range]==1)[0]][0]\n",
    "ble_begin = 1e3*t_app[np.argwhere(app_state_windows[3][detail_range]==1)[0]][0]\n",
    "shutdown_begin = 1e3*t_app[np.argwhere(app_shutdown_window[detail_range]==1)[0]][0]\n",
    "shutdown_end = 1e3*t_app[np.argwhere(app_shutdown_window[detail_range]==1)[-1]][0]\n",
    "lpm_end = 1e3*t_app[np.argwhere(np.logical_not(app_active)[detail_range]==1)[-1]][0]\n",
    "ptrace_color = '#111111'\n",
    "\n",
    "fig, ax = plt.subplots(2, 1, figsize=(x_size, 3), sharex=True, gridspec_kw={'height_ratios': [3, 1]})\n",
    "_ = ax[power_plot].plot(1e3 * (t_app[detail_range] - t_app[detail_range].min()), 1e3 * P_app[detail_range], color = ptrace_color)\n",
    "_ = ax[power_plot].set_ylabel('$P_{sys}$\\n[mW]', rotation = 'horizontal', labelpad = 20)\n",
    "_ = ax[power_plot].spines['top'].set_visible(False)\n",
    "_ = ax[power_plot].spines['right'].set_visible(False)\n",
    "_ = ax[power_plot].spines['bottom'].set_visible(False)\n",
    "_ = ax[power_plot].xaxis.set_tick_params(length = 0)\n",
    "_ = ax[power_plot].spines['left'].set_bounds(min(1e3 * P_app[detail_range]), max(1e3 * P_app[detail_range]))\n",
    "_ = ax[power_plot].set_yticks([min(1e3 * P_app[detail_range]), 0, 10, 20, max(1e3 * P_app[detail_range])])\n",
    "_ = ax[power_plot].set_yticklabels(['- 4', '0', '10', '20', '35'], size = 9)\n",
    "_ = ax[power_plot].text(0.38, 30, \"Trigger\", color = \"red\", fontsize = 12)\n",
    "\n",
    "\n",
    "_ = ax[state_plot].fill_between(1e3 * (t_app[detail_range] - t_app[detail_range].min()), 0, app_init_window[detail_range], step='mid', label='init', alpha=0.6, color ='#108AD9')\n",
    "_ = ax[state_plot].fill_between(1e3 * (t_app[detail_range] - t_app[detail_range].min()), 0, app_state_windows[1][detail_range], step='mid', label='config', alpha=0.6, color ='#98D9D3')\n",
    "_ = ax[state_plot].fill_between(1e3 * (t_app[detail_range] - t_app[detail_range].min()), 0, app_state_windows[3][detail_range], step='mid', label='ble', alpha=0.6, color = '#44D68C')\n",
    "_ = ax[state_plot].fill_between(1e3 * (t_app[detail_range] - t_app[detail_range].min()), 0, app_shutdown_window[detail_range], step='mid', label='shutdown', alpha=0.6, color ='#6930c3')\n",
    "_ = ax[state_plot].fill_between(1e3 * (t_app[detail_range] - t_app[detail_range].min()), 0, np.logical_not(app_active)[detail_range], step='mid', label='LPM', alpha=0.6, color = '#ffd166')\n",
    "_ = ax[state_plot].set_xlabel('Time [ms]')\n",
    "_ = ax[state_plot].set_ylabel('State', rotation = 'horizontal', labelpad = 20)\n",
    "_ = ax[state_plot].yaxis.set_label_coords(-0.05,0.3)\n",
    "_ = ax[state_plot].text(init_begin/2 , 0.4, \"LPM\", fontsize = 12, horizontalalignment='center')\n",
    "_ = ax[state_plot].text(init_begin + (config_begin - init_begin)/2, 0.4, \"init\", fontsize = 12, horizontalalignment='center')\n",
    "_ = ax[state_plot].text(config_begin + (ble_begin - config_begin)/2, 0.4, \"config\", fontsize = 12, horizontalalignment='center')\n",
    "_ = ax[state_plot].text(ble_begin + (shutdown_begin - ble_begin)/2, 0.4, \"BLE\", fontsize = 12, horizontalalignment='center')\n",
    "_ = ax[state_plot].text(shutdown_begin + (shutdown_end - shutdown_begin)/2, 0.6, \"shut-\", fontsize = 10, horizontalalignment='center')\n",
    "_ = ax[state_plot].text(shutdown_begin + (shutdown_end - shutdown_begin)/2, 0.25, \"down\", fontsize = 10, horizontalalignment='center')\n",
    "_ = ax[state_plot].text(shutdown_end + (lpm_end - shutdown_end)/2, 0.4, \"LPM\", fontsize = 12, horizontalalignment='center')\n",
    "_ = ax[state_plot].spines['right'].set_visible(False)\n",
    "_ = ax[state_plot].spines['top'].set_visible(False)\n",
    "_ = ax[state_plot].spines['left'].set_visible(False)\n",
    "_ = ax[state_plot].spines['bottom'].set_position(('outward', 5))\n",
    "_ = ax[state_plot].yaxis.set_tick_params(length = 0)\n",
    "_ = ax[state_plot].set_yticklabels([])\n",
    "_ = ax[state_plot].set_ylim([0.1,1])\n",
    "_ = ax[state_plot].axvline(x=init_begin,ymin=0,ymax=3.5,c=\"red\",linewidth=2,zorder=10, clip_on=False)\n",
    "_ = ax[state_plot].set_xlim([min(1e3 * (t_app[detail_range] - t_app[detail_range].min())) - 0.25, max(1e3 * (t_app[detail_range] - t_app[detail_range].min())) + 0.25])\n",
    "_ = ax[state_plot].set_xticks([0, init_begin, config_begin, ble_begin, shutdown_begin, shutdown_end, lpm_end])\n",
    "_ = ax[state_plot].set_xticklabels(['0', '1', '3.5', '5.25', '8.5', '9', '11'])\n",
    "_ = ax[state_plot].spines['bottom'].set_bounds(min(1e3 * (t_app[detail_range] - t_app[detail_range].min())), max(1e3 * (t_app[detail_range] - t_app[detail_range].min())))\n",
    "plt.show()\n"
   ]
  },
  {
   "cell_type": "markdown",
   "metadata": {
    "id": "cPzPujQ86n4u"
   },
   "source": [
    "# Energy and Time Statistics"
   ]
  },
  {
   "cell_type": "code",
   "execution_count": 38,
   "metadata": {
    "id": "MUpoqjJd6n4v"
   },
   "outputs": [],
   "source": [
    "# extract individual activation energies for the application states\n",
    "APP_TOTAL_STATE = 999\n",
    "app_analysis_states = {0: 'init', **APP_STATES, 99: 'shutdown', APP_TOTAL_STATE: 'total'}\n",
    "\n",
    "# total state init\n",
    "app_state_energy = {APP_TOTAL_STATE: np.zeros(num_trig)}\n",
    "app_state_time = {APP_TOTAL_STATE: np.zeros(num_trig)}\n",
    "\n",
    "# application state energies\n",
    "for (index, name) in app_analysis_states.items():\n",
    "    if index == APP_TOTAL_STATE:\n",
    "        continue # accumulation of other states\n",
    "\n",
    "    # get state dependent filter\n",
    "    if name == 'init':\n",
    "        app_state_filter = app_init_window\n",
    "    elif name == 'shutdown':\n",
    "        app_state_filter = app_shutdown_window\n",
    "    else:\n",
    "        app_state_filter = app_state_windows[index]\n",
    "\n",
    "    # energy calculation\n",
    "    app_state_energy[index] = np.zeros(num_trig) * np.NaN\n",
    "    app_state_time[index] = np.zeros(num_trig) * np.NaN\n",
    "    E_app_filtered = E_app * app_state_filter\n",
    "    \n",
    "    # per activation statistics\n",
    "    for activation in range(num_trig):\n",
    "        [idx_start, idx_end] = app_active_index[activation]\n",
    "        app_state_energy[index][activation] = np.sum(E_app_filtered[idx_start:idx_end])\n",
    "        app_state_time[index][activation] = np.sum(app_state_filter[idx_start:idx_end]) / data_sample_rate\n",
    "    app_state_energy[APP_TOTAL_STATE] += app_state_energy[index]\n",
    "    app_state_time[APP_TOTAL_STATE] += app_state_time[index]\n",
    "\n",
    "# sleep state power\n",
    "P_lpm = np.mean(P_app[np.logical_not(app_active)])\n",
    "I_lpm = np.mean(I_app[np.logical_not(app_active)])"
   ]
  },
  {
   "cell_type": "code",
   "execution_count": 39,
   "metadata": {
    "colab": {
     "base_uri": "https://localhost:8080/"
    },
    "id": "Tq91vn_i6n4w",
    "outputId": "938e8b34-136e-4cec-ddd9-c1f58d23aac3"
   },
   "outputs": [
    {
     "name": "stdout",
     "output_type": "stream",
     "text": [
      "Per application section energy (averaged for 71 executions)\n",
      "app state    |    mean    |   std dev |   median   | 95% quant | 99% quant\n",
      "\n",
      "E_init       |  20.662 uJ |  0.489 uJ |  20.607 uJ |  0.570 uJ |  1.608 uJ\n",
      "E_config     |  44.450 uJ |  4.150 uJ |  45.298 uJ |  1.663 uJ | 19.963 uJ\n",
      "E_BLE        |  99.891 uJ |  7.660 uJ | 101.557 uJ |  1.880 uJ | 36.583 uJ\n",
      "E_shutdown   |  10.927 uJ |  1.054 uJ |  11.254 uJ |  0.651 uJ |  5.050 uJ\n",
      "\n",
      "E_total      | 175.929 uJ | 12.547 uJ | 178.588 uJ |  3.635 uJ | 60.903 uJ\n",
      "\n",
      "P_lpm        |   6.946 uW\n",
      "I_lpm        |   2.474 uA\n"
     ]
    }
   ],
   "source": [
    "# per activation sum statistics\n",
    "print('Per application section energy (averaged for {} executions)'.format(num_trig))\n",
    "print('app state    |    mean    |   std dev |   median   | {:.0f}% quant | {:.0f}% quant'.format(PERCENTILE[0], PERCENTILE[1]))\n",
    "print()\n",
    "for (index, name) in app_analysis_states.items():\n",
    "    if name == 'total':\n",
    "        print()\n",
    "    # calculations\n",
    "    app_state = app_state_energy[index]\n",
    "    app_state_mean = np.mean(app_state)\n",
    "    app_state_median = np.median(app_state)\n",
    "    app_state_std = np.std(app_state)\n",
    "    app_state_err_abs = np.abs(app_state - app_state_mean)\n",
    "    app_state_quantile1 = np.percentile(app_state_err_abs, PERCENTILE[0])\n",
    "    app_state_quantile2 = np.percentile(app_state_err_abs, PERCENTILE[1])\n",
    "    \n",
    "    print('E_{:10s} | {:7.3f} uJ | {:6.3f} uJ | {:7.3f} uJ | {:6.3f} uJ | {:6.3f} uJ'.format(\n",
    "        name, 1e6 * app_state_mean, 1e6 * app_state_std, 1e6 * app_state_median, 1e6 * app_state_quantile1, 1e6 * app_state_quantile2))\n",
    "\n",
    "print()\n",
    "print('P_lpm        | {:7.3f} uW'.format(1e6 * P_lpm))\n",
    "print('I_lpm        | {:7.3f} uA'.format(1e6 * I_lpm))"
   ]
  },
  {
   "cell_type": "code",
   "execution_count": 40,
   "metadata": {
    "colab": {
     "base_uri": "https://localhost:8080/"
    },
    "id": "8HZ3QOKi6n4x",
    "outputId": "29277265-0674-44e7-e480-850778feedda"
   },
   "outputs": [
    {
     "name": "stdout",
     "output_type": "stream",
     "text": [
      "Per application section time (averaged for 71 executions)\n",
      "\n",
      "app state    |    mean    |   std dev |   median   | 95% quant | 99% quant\n",
      "\n",
      "t_init       |   2.177 ms |  0.067 ms |   2.156 ms |  0.021 ms |  0.315 ms\n",
      "t_config     |   1.796 ms |  0.004 ms |   1.797 ms |  0.014 ms |  0.014 ms\n",
      "t_BLE        |   3.169 ms |  0.006 ms |   3.172 ms |  0.013 ms |  0.013 ms\n",
      "t_shutdown   |   1.021 ms |  0.167 ms |   1.109 ms |  0.318 ms |  0.338 ms\n",
      "\n",
      "t_total      |   8.162 ms |  0.176 ms |   8.250 ms |  0.342 ms |  0.409 ms\n"
     ]
    }
   ],
   "source": [
    "# per activation time statistics\n",
    "print('Per application section time (averaged for {} executions)'.format(num_trig))\n",
    "print()\n",
    "print('app state    |    mean    |   std dev |   median   | {:.0f}% quant | {:.0f}% quant'.format(PERCENTILE[0], PERCENTILE[1]))\n",
    "print()\n",
    "for (index, name) in app_analysis_states.items():\n",
    "    if name == 'total':\n",
    "        print()\n",
    "    # calculations\n",
    "    app_state = app_state_time[index]\n",
    "    app_state_mean = np.mean(app_state)\n",
    "    app_state_median = np.median(app_state)\n",
    "    app_state_std = np.std(app_state)\n",
    "    app_state_err_abs = np.abs(app_state - app_state_mean)\n",
    "    app_state_quantile1 = np.percentile(app_state_err_abs, PERCENTILE[0])\n",
    "    app_state_quantile2 = np.percentile(app_state_err_abs, PERCENTILE[1])\n",
    "    \n",
    "    print('t_{:10s} | {:7.3f} ms | {:6.3f} ms | {:7.3f} ms | {:6.3f} ms | {:6.3f} ms'.format(\n",
    "        name, 1e3 * app_state_mean, 1e3 * app_state_std, 1e3 * app_state_median, 1e3 * app_state_quantile1, 1e3 * app_state_quantile2))"
   ]
  },
  {
   "cell_type": "code",
   "execution_count": 24,
   "metadata": {
    "colab": {
     "base_uri": "https://localhost:8080/"
    },
    "id": "QcCKxI2t6n4y",
    "outputId": "a6e9e913-233d-43e1-dd8f-5721f8abfba0"
   },
   "outputs": [
    {
     "name": "stdout",
     "output_type": "stream",
     "text": [
      "window aggregation check:\tTrue\t1728000 <> 1728000\n",
      "energy conservation check:\tTrue\t0.01267514889434861 <> 0.012675149839832239\n"
     ]
    }
   ],
   "source": [
    "# some analysis sanity checks\n",
    "windows_agg = np.sum(app_init_window + sum(app_state_windows.values()) + app_shutdown_window + 1*np.logical_not(app_active))\n",
    "print('window aggregation check:\\t{}\\t{} <> {}'.format(windows_agg == len(E_app), windows_agg, len(E_app)))\n",
    "\n",
    "E_tot = np.sum(app_state_energy[APP_TOTAL_STATE]) + P_lpm * np.sum(dt_app[np.logical_not(app_active)])\n",
    "print('energy conservation check:\\t{}\\t{} <> {}'.format(abs(np.sum(E_app) - E_tot) < 10e-9, E_tot, np.sum(E_app)))"
   ]
  },
  {
   "cell_type": "markdown",
   "metadata": {
    "id": "iOswXWI76n4y"
   },
   "source": [
    "##### "
   ]
  }
 ],
 "metadata": {
  "colab": {
   "name": "MiroCard_App_Characterization.ipynb",
   "provenance": []
  },
  "kernelspec": {
   "display_name": "Python 3 (ipykernel)",
   "language": "python",
   "name": "python3"
  },
  "language_info": {
   "codemirror_mode": {
    "name": "ipython",
    "version": 3
   },
   "file_extension": ".py",
   "mimetype": "text/x-python",
   "name": "python",
   "nbconvert_exporter": "python",
   "pygments_lexer": "ipython3",
   "version": "3.9.7"
  }
 },
 "nbformat": 4,
 "nbformat_minor": 4
}
